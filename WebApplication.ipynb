{
 "cells": [
  {
   "cell_type": "code",
   "execution_count": 4,
   "metadata": {},
   "outputs": [],
   "source": [
    "import werkzeug\n",
    "werkzeug.cached_property = werkzeug.utils.cached_property\n",
    "from flask import Flask\n",
    "from flask_restplus import Api, Resource\n"
   ]
  },
  {
   "cell_type": "code",
   "execution_count": 7,
   "metadata": {},
   "outputs": [],
   "source": [
    "web_app = Flask(__name__)\n",
    "app = Api(app = web_app)\n",
    "\n",
    "name_space = app.namespace('main', description='Classification')"
   ]
  },
  {
   "cell_type": "code",
   "execution_count": 8,
   "metadata": {},
   "outputs": [],
   "source": [
    "@name_space.route(\"/\")\n",
    "class MainClass(Resource):\n",
    "\tdef get(self):\n",
    "\t\treturn {\n",
    "\t\t\t\"status\": \"Got new data\"\n",
    "\t\t}\n",
    "\tdef post(self):\n",
    "\t\treturn {\n",
    "\t\t\t\"status\": \"Posted new data\"\n",
    "\t\t}"
   ]
  },
  {
   "cell_type": "code",
   "execution_count": null,
   "metadata": {},
   "outputs": [],
   "source": []
  }
 ],
 "metadata": {
  "kernelspec": {
   "display_name": "Python 3",
   "language": "python",
   "name": "python3"
  },
  "language_info": {
   "codemirror_mode": {
    "name": "ipython",
    "version": 3
   },
   "file_extension": ".py",
   "mimetype": "text/x-python",
   "name": "python",
   "nbconvert_exporter": "python",
   "pygments_lexer": "ipython3",
   "version": "3.7.4"
  }
 },
 "nbformat": 4,
 "nbformat_minor": 4
}
